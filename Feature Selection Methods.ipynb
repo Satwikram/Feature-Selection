{
  "nbformat": 4,
  "nbformat_minor": 0,
  "metadata": {
    "colab": {
      "provenance": [],
      "authorship_tag": "ABX9TyNbMwr0MjxoI5j8aWduJFEh",
      "include_colab_link": true
    },
    "kernelspec": {
      "name": "python3",
      "display_name": "Python 3"
    },
    "language_info": {
      "name": "python"
    },
    "accelerator": "GPU",
    "gpuClass": "standard"
  },
  "cells": [
    {
      "cell_type": "markdown",
      "metadata": {
        "id": "view-in-github",
        "colab_type": "text"
      },
      "source": [
        "<a href=\"https://colab.research.google.com/github/Satwikram/Feature-Selection/blob/main/Feature%20Selection%20Methods.ipynb\" target=\"_parent\"><img src=\"https://colab.research.google.com/assets/colab-badge.svg\" alt=\"Open In Colab\"/></a>"
      ]
    },
    {
      "cell_type": "markdown",
      "source": [
        "### Author: Satwik Ram K"
      ],
      "metadata": {
        "id": "G_wzxbCTxY5W"
      }
    },
    {
      "cell_type": "markdown",
      "source": [
        "### Imports"
      ],
      "metadata": {
        "id": "i7h8h8Hjxezr"
      }
    },
    {
      "cell_type": "code",
      "execution_count": 69,
      "metadata": {
        "id": "lKeqQsZXw8PT"
      },
      "outputs": [],
      "source": [
        "import pandas as pd\n",
        "\n",
        "import numpy as np\n",
        "\n",
        "from sklearn.model_selection import train_test_split\n",
        "from sklearn.preprocessing import StandardScaler\n",
        "\n",
        "from sklearn.neighbors import KNeighborsClassifier\n",
        "from sklearn.svm import SVC\n",
        "\n",
        "from sklearn.feature_selection import SelectFromModel\n",
        "from sklearn.linear_model import Lasso, LogisticRegression\n",
        "\n",
        "from sklearn.model_selection import LeaveOneOut\n",
        "from sklearn.model_selection import cross_val_score\n",
        "\n",
        "from sklearn.metrics import *"
      ]
    },
    {
      "cell_type": "markdown",
      "source": [
        "### Loading Dataset"
      ],
      "metadata": {
        "id": "sMdsSlzPylxS"
      }
    },
    {
      "cell_type": "code",
      "source": [
        "df = pd.read_csv(\"/content/dataset.csv\")"
      ],
      "metadata": {
        "id": "EbitIvTxxiOk"
      },
      "execution_count": 6,
      "outputs": []
    },
    {
      "cell_type": "code",
      "source": [
        "df.head()"
      ],
      "metadata": {
        "colab": {
          "base_uri": "https://localhost:8080/",
          "height": 299
        },
        "id": "xl3ZMqDhyqC-",
        "outputId": "a292efce-07b7-4754-f2c0-71854f7f3831"
      },
      "execution_count": 7,
      "outputs": [
        {
          "output_type": "execute_result",
          "data": {
            "text/plain": [
              "   alpha_ec_0  alpha_ec_1  alpha_ec_2  alpha_ec_3  alpha_ec_4  alpha_ec_5  \\\n",
              "0       0.112       0.124       0.129       0.113       0.106       0.107   \n",
              "1       0.298       0.269       0.262       0.380       0.344       0.285   \n",
              "2       0.369       0.396       0.390       0.258       0.406       0.442   \n",
              "3       0.761       0.777       0.770       0.602       0.702       0.727   \n",
              "4       0.168       0.151       0.147       0.157       0.150       0.142   \n",
              "\n",
              "   alpha_ec_6  alpha_ec_7  alpha_ec_8  alpha_ec_9  ...  ratio_theta_39  \\\n",
              "0       0.108       0.111       0.109       0.159  ...           0.739   \n",
              "1       0.248       0.250       0.260       0.260  ...           0.328   \n",
              "2       0.440       0.399       0.315       0.283  ...           0.865   \n",
              "3       0.762       0.789       0.730       0.522  ...           0.251   \n",
              "4       0.132       0.128       0.144       0.173  ...           1.730   \n",
              "\n",
              "   ratio_theta_40  ratio_theta_41  ratio_theta_42  ratio_theta_43  \\\n",
              "0           0.587           0.552           0.548           0.579   \n",
              "1           0.432           0.496           0.407           0.313   \n",
              "2           1.090           0.318           0.364           0.506   \n",
              "3           0.432           0.713           0.533           0.285   \n",
              "4           1.240           2.760           3.010           2.440   \n",
              "\n",
              "   ratio_theta_44  ratio_theta_45  ratio_theta_46  ratio_theta_47  labels  \n",
              "0           0.593           0.604           0.563           1.010     0.0  \n",
              "1           0.664           0.584           0.467           0.749     0.0  \n",
              "2           0.335           0.494           0.624           0.614     0.0  \n",
              "3           0.681           0.663           0.253           0.854     0.0  \n",
              "4           2.530           2.580           2.010           2.290     0.0  \n",
              "\n",
              "[5 rows x 433 columns]"
            ],
            "text/html": [
              "\n",
              "  <div id=\"df-674c38d1-9af1-45ce-8935-f8a39ed42737\">\n",
              "    <div class=\"colab-df-container\">\n",
              "      <div>\n",
              "<style scoped>\n",
              "    .dataframe tbody tr th:only-of-type {\n",
              "        vertical-align: middle;\n",
              "    }\n",
              "\n",
              "    .dataframe tbody tr th {\n",
              "        vertical-align: top;\n",
              "    }\n",
              "\n",
              "    .dataframe thead th {\n",
              "        text-align: right;\n",
              "    }\n",
              "</style>\n",
              "<table border=\"1\" class=\"dataframe\">\n",
              "  <thead>\n",
              "    <tr style=\"text-align: right;\">\n",
              "      <th></th>\n",
              "      <th>alpha_ec_0</th>\n",
              "      <th>alpha_ec_1</th>\n",
              "      <th>alpha_ec_2</th>\n",
              "      <th>alpha_ec_3</th>\n",
              "      <th>alpha_ec_4</th>\n",
              "      <th>alpha_ec_5</th>\n",
              "      <th>alpha_ec_6</th>\n",
              "      <th>alpha_ec_7</th>\n",
              "      <th>alpha_ec_8</th>\n",
              "      <th>alpha_ec_9</th>\n",
              "      <th>...</th>\n",
              "      <th>ratio_theta_39</th>\n",
              "      <th>ratio_theta_40</th>\n",
              "      <th>ratio_theta_41</th>\n",
              "      <th>ratio_theta_42</th>\n",
              "      <th>ratio_theta_43</th>\n",
              "      <th>ratio_theta_44</th>\n",
              "      <th>ratio_theta_45</th>\n",
              "      <th>ratio_theta_46</th>\n",
              "      <th>ratio_theta_47</th>\n",
              "      <th>labels</th>\n",
              "    </tr>\n",
              "  </thead>\n",
              "  <tbody>\n",
              "    <tr>\n",
              "      <th>0</th>\n",
              "      <td>0.112</td>\n",
              "      <td>0.124</td>\n",
              "      <td>0.129</td>\n",
              "      <td>0.113</td>\n",
              "      <td>0.106</td>\n",
              "      <td>0.107</td>\n",
              "      <td>0.108</td>\n",
              "      <td>0.111</td>\n",
              "      <td>0.109</td>\n",
              "      <td>0.159</td>\n",
              "      <td>...</td>\n",
              "      <td>0.739</td>\n",
              "      <td>0.587</td>\n",
              "      <td>0.552</td>\n",
              "      <td>0.548</td>\n",
              "      <td>0.579</td>\n",
              "      <td>0.593</td>\n",
              "      <td>0.604</td>\n",
              "      <td>0.563</td>\n",
              "      <td>1.010</td>\n",
              "      <td>0.0</td>\n",
              "    </tr>\n",
              "    <tr>\n",
              "      <th>1</th>\n",
              "      <td>0.298</td>\n",
              "      <td>0.269</td>\n",
              "      <td>0.262</td>\n",
              "      <td>0.380</td>\n",
              "      <td>0.344</td>\n",
              "      <td>0.285</td>\n",
              "      <td>0.248</td>\n",
              "      <td>0.250</td>\n",
              "      <td>0.260</td>\n",
              "      <td>0.260</td>\n",
              "      <td>...</td>\n",
              "      <td>0.328</td>\n",
              "      <td>0.432</td>\n",
              "      <td>0.496</td>\n",
              "      <td>0.407</td>\n",
              "      <td>0.313</td>\n",
              "      <td>0.664</td>\n",
              "      <td>0.584</td>\n",
              "      <td>0.467</td>\n",
              "      <td>0.749</td>\n",
              "      <td>0.0</td>\n",
              "    </tr>\n",
              "    <tr>\n",
              "      <th>2</th>\n",
              "      <td>0.369</td>\n",
              "      <td>0.396</td>\n",
              "      <td>0.390</td>\n",
              "      <td>0.258</td>\n",
              "      <td>0.406</td>\n",
              "      <td>0.442</td>\n",
              "      <td>0.440</td>\n",
              "      <td>0.399</td>\n",
              "      <td>0.315</td>\n",
              "      <td>0.283</td>\n",
              "      <td>...</td>\n",
              "      <td>0.865</td>\n",
              "      <td>1.090</td>\n",
              "      <td>0.318</td>\n",
              "      <td>0.364</td>\n",
              "      <td>0.506</td>\n",
              "      <td>0.335</td>\n",
              "      <td>0.494</td>\n",
              "      <td>0.624</td>\n",
              "      <td>0.614</td>\n",
              "      <td>0.0</td>\n",
              "    </tr>\n",
              "    <tr>\n",
              "      <th>3</th>\n",
              "      <td>0.761</td>\n",
              "      <td>0.777</td>\n",
              "      <td>0.770</td>\n",
              "      <td>0.602</td>\n",
              "      <td>0.702</td>\n",
              "      <td>0.727</td>\n",
              "      <td>0.762</td>\n",
              "      <td>0.789</td>\n",
              "      <td>0.730</td>\n",
              "      <td>0.522</td>\n",
              "      <td>...</td>\n",
              "      <td>0.251</td>\n",
              "      <td>0.432</td>\n",
              "      <td>0.713</td>\n",
              "      <td>0.533</td>\n",
              "      <td>0.285</td>\n",
              "      <td>0.681</td>\n",
              "      <td>0.663</td>\n",
              "      <td>0.253</td>\n",
              "      <td>0.854</td>\n",
              "      <td>0.0</td>\n",
              "    </tr>\n",
              "    <tr>\n",
              "      <th>4</th>\n",
              "      <td>0.168</td>\n",
              "      <td>0.151</td>\n",
              "      <td>0.147</td>\n",
              "      <td>0.157</td>\n",
              "      <td>0.150</td>\n",
              "      <td>0.142</td>\n",
              "      <td>0.132</td>\n",
              "      <td>0.128</td>\n",
              "      <td>0.144</td>\n",
              "      <td>0.173</td>\n",
              "      <td>...</td>\n",
              "      <td>1.730</td>\n",
              "      <td>1.240</td>\n",
              "      <td>2.760</td>\n",
              "      <td>3.010</td>\n",
              "      <td>2.440</td>\n",
              "      <td>2.530</td>\n",
              "      <td>2.580</td>\n",
              "      <td>2.010</td>\n",
              "      <td>2.290</td>\n",
              "      <td>0.0</td>\n",
              "    </tr>\n",
              "  </tbody>\n",
              "</table>\n",
              "<p>5 rows × 433 columns</p>\n",
              "</div>\n",
              "      <button class=\"colab-df-convert\" onclick=\"convertToInteractive('df-674c38d1-9af1-45ce-8935-f8a39ed42737')\"\n",
              "              title=\"Convert this dataframe to an interactive table.\"\n",
              "              style=\"display:none;\">\n",
              "        \n",
              "  <svg xmlns=\"http://www.w3.org/2000/svg\" height=\"24px\"viewBox=\"0 0 24 24\"\n",
              "       width=\"24px\">\n",
              "    <path d=\"M0 0h24v24H0V0z\" fill=\"none\"/>\n",
              "    <path d=\"M18.56 5.44l.94 2.06.94-2.06 2.06-.94-2.06-.94-.94-2.06-.94 2.06-2.06.94zm-11 1L8.5 8.5l.94-2.06 2.06-.94-2.06-.94L8.5 2.5l-.94 2.06-2.06.94zm10 10l.94 2.06.94-2.06 2.06-.94-2.06-.94-.94-2.06-.94 2.06-2.06.94z\"/><path d=\"M17.41 7.96l-1.37-1.37c-.4-.4-.92-.59-1.43-.59-.52 0-1.04.2-1.43.59L10.3 9.45l-7.72 7.72c-.78.78-.78 2.05 0 2.83L4 21.41c.39.39.9.59 1.41.59.51 0 1.02-.2 1.41-.59l7.78-7.78 2.81-2.81c.8-.78.8-2.07 0-2.86zM5.41 20L4 18.59l7.72-7.72 1.47 1.35L5.41 20z\"/>\n",
              "  </svg>\n",
              "      </button>\n",
              "      \n",
              "  <style>\n",
              "    .colab-df-container {\n",
              "      display:flex;\n",
              "      flex-wrap:wrap;\n",
              "      gap: 12px;\n",
              "    }\n",
              "\n",
              "    .colab-df-convert {\n",
              "      background-color: #E8F0FE;\n",
              "      border: none;\n",
              "      border-radius: 50%;\n",
              "      cursor: pointer;\n",
              "      display: none;\n",
              "      fill: #1967D2;\n",
              "      height: 32px;\n",
              "      padding: 0 0 0 0;\n",
              "      width: 32px;\n",
              "    }\n",
              "\n",
              "    .colab-df-convert:hover {\n",
              "      background-color: #E2EBFA;\n",
              "      box-shadow: 0px 1px 2px rgba(60, 64, 67, 0.3), 0px 1px 3px 1px rgba(60, 64, 67, 0.15);\n",
              "      fill: #174EA6;\n",
              "    }\n",
              "\n",
              "    [theme=dark] .colab-df-convert {\n",
              "      background-color: #3B4455;\n",
              "      fill: #D2E3FC;\n",
              "    }\n",
              "\n",
              "    [theme=dark] .colab-df-convert:hover {\n",
              "      background-color: #434B5C;\n",
              "      box-shadow: 0px 1px 3px 1px rgba(0, 0, 0, 0.15);\n",
              "      filter: drop-shadow(0px 1px 2px rgba(0, 0, 0, 0.3));\n",
              "      fill: #FFFFFF;\n",
              "    }\n",
              "  </style>\n",
              "\n",
              "      <script>\n",
              "        const buttonEl =\n",
              "          document.querySelector('#df-674c38d1-9af1-45ce-8935-f8a39ed42737 button.colab-df-convert');\n",
              "        buttonEl.style.display =\n",
              "          google.colab.kernel.accessAllowed ? 'block' : 'none';\n",
              "\n",
              "        async function convertToInteractive(key) {\n",
              "          const element = document.querySelector('#df-674c38d1-9af1-45ce-8935-f8a39ed42737');\n",
              "          const dataTable =\n",
              "            await google.colab.kernel.invokeFunction('convertToInteractive',\n",
              "                                                     [key], {});\n",
              "          if (!dataTable) return;\n",
              "\n",
              "          const docLinkHtml = 'Like what you see? Visit the ' +\n",
              "            '<a target=\"_blank\" href=https://colab.research.google.com/notebooks/data_table.ipynb>data table notebook</a>'\n",
              "            + ' to learn more about interactive tables.';\n",
              "          element.innerHTML = '';\n",
              "          dataTable['output_type'] = 'display_data';\n",
              "          await google.colab.output.renderOutput(dataTable, element);\n",
              "          const docLink = document.createElement('div');\n",
              "          docLink.innerHTML = docLinkHtml;\n",
              "          element.appendChild(docLink);\n",
              "        }\n",
              "      </script>\n",
              "    </div>\n",
              "  </div>\n",
              "  "
            ]
          },
          "metadata": {},
          "execution_count": 7
        }
      ]
    },
    {
      "cell_type": "markdown",
      "source": [
        "### Taking X and Y"
      ],
      "metadata": {
        "id": "sfu_Btwr0RLU"
      }
    },
    {
      "cell_type": "code",
      "source": [
        "X = df.drop(\"labels\", axis=1)\n",
        "y = df[\"labels\"]"
      ],
      "metadata": {
        "id": "FNIfQGcw0T2b"
      },
      "execution_count": 13,
      "outputs": []
    },
    {
      "cell_type": "markdown",
      "source": [
        "### Splitting Dataset"
      ],
      "metadata": {
        "id": "l1sZAUyt0CeL"
      }
    },
    {
      "cell_type": "code",
      "source": [
        "X_train, X_test, y_train, y_test = train_test_split(X, y, test_size=0.2, random_state=42, stratify=y)"
      ],
      "metadata": {
        "id": "SNJKN4xu0Eka"
      },
      "execution_count": 14,
      "outputs": []
    },
    {
      "cell_type": "markdown",
      "source": [
        "### Pre-Processing"
      ],
      "metadata": {
        "id": "SpScMEKOz8JV"
      }
    },
    {
      "cell_type": "code",
      "source": [
        "sc = StandardScaler()"
      ],
      "metadata": {
        "id": "Nu50je8WyrHH"
      },
      "execution_count": 15,
      "outputs": []
    },
    {
      "cell_type": "code",
      "source": [
        "X_train = sc.fit_transform(X_train)\n",
        "X_test = sc.transform(X_test)"
      ],
      "metadata": {
        "id": "qpNddRJN036e"
      },
      "execution_count": 16,
      "outputs": []
    },
    {
      "cell_type": "code",
      "source": [
        "X_train"
      ],
      "metadata": {
        "colab": {
          "base_uri": "https://localhost:8080/"
        },
        "id": "Pt-e4q2o1A4B",
        "outputId": "fda4cf08-a902-4f61-8be8-b2e150bafe42"
      },
      "execution_count": 17,
      "outputs": [
        {
          "output_type": "execute_result",
          "data": {
            "text/plain": [
              "array([[ 1.34704064,  1.09923367,  0.93896227, ..., -0.90726301,\n",
              "        -0.92109706, -0.87442269],\n",
              "       [-1.37733747, -1.35593698, -1.3533501 , ..., -0.55781888,\n",
              "        -0.54854731, -0.1049701 ],\n",
              "       [ 0.64608572,  0.64334125,  0.87596003, ...,  0.42932678,\n",
              "         0.22442007,  1.15334524],\n",
              "       ...,\n",
              "       [ 0.2862622 ,  0.13996003, -0.02545668, ..., -0.01937579,\n",
              "        -0.24493394,  1.94883195],\n",
              "       [-0.96611058, -0.71008938, -0.53432095, ..., -0.19885682,\n",
              "         0.23908738, -0.97277378],\n",
              "       [-0.05954223, -0.14497274, -0.08845892, ..., -0.13767011,\n",
              "        -0.08212677, -0.75293018]])"
            ]
          },
          "metadata": {},
          "execution_count": 17
        }
      ]
    },
    {
      "cell_type": "markdown",
      "source": [
        "### LOOCV for Evaluating Machine Learning Algorithms"
      ],
      "metadata": {
        "id": "dB4XGLv3EO8_"
      }
    },
    {
      "cell_type": "code",
      "source": [
        "cv = LeaveOneOut()"
      ],
      "metadata": {
        "id": "oyzQ2kTxFmnK"
      },
      "execution_count": 78,
      "outputs": []
    },
    {
      "cell_type": "code",
      "source": [
        "def loocv(model, cv, X_train, y_train):\n",
        "  scores = cross_val_score(model, X_train, y_train, scoring='accuracy', cv=cv, n_jobs=-1)\n",
        "  print('Accuracy: %.3f (%.3f)' % (scores.mean(), scores.std()))"
      ],
      "metadata": {
        "id": "YX_yY_48EOWU"
      },
      "execution_count": 83,
      "outputs": []
    },
    {
      "cell_type": "markdown",
      "source": [
        "### Metrics for Performance Evaluation"
      ],
      "metadata": {
        "id": "qtWgq49oFE3c"
      }
    },
    {
      "cell_type": "code",
      "source": [
        "def report(model, X_test, y_test):\n",
        "  \n",
        "  y_pred = model.predict(X_test)\n",
        "  print(classification_report(y_test, y_pred))"
      ],
      "metadata": {
        "id": "F4uIrwjtFECt"
      },
      "execution_count": 84,
      "outputs": []
    },
    {
      "cell_type": "markdown",
      "source": [
        "### KNN without Feature Selection"
      ],
      "metadata": {
        "id": "LzOKUKyr1JyM"
      }
    },
    {
      "cell_type": "code",
      "source": [
        "knn = KNeighborsClassifier(n_neighbors=2)\n",
        "knn.fit(X_train, y_train)\n",
        "report(knn, X_test, y_test)"
      ],
      "metadata": {
        "colab": {
          "base_uri": "https://localhost:8080/"
        },
        "id": "AlPt2sCb1EgG",
        "outputId": "007bb494-d60e-4d3b-e3d3-110ecd80bfba"
      },
      "execution_count": 85,
      "outputs": [
        {
          "output_type": "stream",
          "name": "stdout",
          "text": [
            "              precision    recall  f1-score   support\n",
            "\n",
            "         0.0       0.83      1.00      0.91        20\n",
            "         1.0       1.00      0.75      0.86        16\n",
            "\n",
            "    accuracy                           0.89        36\n",
            "   macro avg       0.92      0.88      0.88        36\n",
            "weighted avg       0.91      0.89      0.89        36\n",
            "\n"
          ]
        }
      ]
    },
    {
      "cell_type": "markdown",
      "source": [
        "### LOOCV KNN without Feature Selection"
      ],
      "metadata": {
        "id": "EnQeo2P-GjOX"
      }
    },
    {
      "cell_type": "code",
      "source": [
        "loocv(knn, cv, X_train, y_train)"
      ],
      "metadata": {
        "colab": {
          "base_uri": "https://localhost:8080/"
        },
        "id": "ukgvU-FAFXX1",
        "outputId": "f839c6a5-4451-4725-f608-f86a623808b3"
      },
      "execution_count": 87,
      "outputs": [
        {
          "output_type": "stream",
          "name": "stdout",
          "text": [
            "Accuracy: 0.854 (0.353)\n"
          ]
        }
      ]
    },
    {
      "cell_type": "markdown",
      "source": [
        "### SVM without Feature Selection"
      ],
      "metadata": {
        "id": "XOgcD6inGp_g"
      }
    },
    {
      "cell_type": "code",
      "source": [
        "svm = SVC()\n",
        "svm.fit(X_train, y_train)"
      ],
      "metadata": {
        "colab": {
          "base_uri": "https://localhost:8080/"
        },
        "id": "OiXs3i4q2PFZ",
        "outputId": "59b71e81-c28a-43ca-c719-d05cd2ac3d76"
      },
      "execution_count": 88,
      "outputs": [
        {
          "output_type": "execute_result",
          "data": {
            "text/plain": [
              "SVC()"
            ]
          },
          "metadata": {},
          "execution_count": 88
        }
      ]
    },
    {
      "cell_type": "code",
      "source": [
        "report(svm, X_test, y_test)"
      ],
      "metadata": {
        "colab": {
          "base_uri": "https://localhost:8080/"
        },
        "id": "C6cjxwAn1sxd",
        "outputId": "96ff82c5-e63e-446b-a4d0-b12db660e085"
      },
      "execution_count": 89,
      "outputs": [
        {
          "output_type": "stream",
          "name": "stdout",
          "text": [
            "              precision    recall  f1-score   support\n",
            "\n",
            "         0.0       0.87      1.00      0.93        20\n",
            "         1.0       1.00      0.81      0.90        16\n",
            "\n",
            "    accuracy                           0.92        36\n",
            "   macro avg       0.93      0.91      0.91        36\n",
            "weighted avg       0.93      0.92      0.92        36\n",
            "\n"
          ]
        }
      ]
    },
    {
      "cell_type": "markdown",
      "source": [
        "### LOOCV SVM without Feature Selection"
      ],
      "metadata": {
        "id": "k0keXpxZG7GV"
      }
    },
    {
      "cell_type": "code",
      "source": [
        "loocv(svm, cv, X_train, y_train)"
      ],
      "metadata": {
        "colab": {
          "base_uri": "https://localhost:8080/"
        },
        "id": "xGP8ISZ0HCha",
        "outputId": "c96541d2-389e-480c-d207-b3dbd4dbb261"
      },
      "execution_count": 90,
      "outputs": [
        {
          "output_type": "stream",
          "name": "stdout",
          "text": [
            "Accuracy: 0.861 (0.346)\n"
          ]
        }
      ]
    },
    {
      "cell_type": "markdown",
      "source": [
        "### Feature Selection"
      ],
      "metadata": {
        "id": "-wypEtSQ2kTE"
      }
    },
    {
      "cell_type": "code",
      "source": [
        "num_feats = 30"
      ],
      "metadata": {
        "id": "WlGroOwx59ey"
      },
      "execution_count": 137,
      "outputs": []
    },
    {
      "cell_type": "markdown",
      "source": [
        "#### Pearson Correlation"
      ],
      "metadata": {
        "id": "2OiDbQYg4xLQ"
      }
    },
    {
      "cell_type": "code",
      "source": [
        "def cor_selector(X, y, num_feats):\n",
        "    \n",
        "    cor_list = []\n",
        "    feature_name = X.columns.tolist()\n",
        "    \n",
        "    # calculate the correlation with y for each feature\n",
        "    for i in X.columns.tolist():\n",
        "        cor = np.corrcoef(X[i], y)[0, 1]\n",
        "        cor_list.append(cor)\n",
        "    \n",
        "    # replace NaN with 0\n",
        "    cor_list = [0 if np.isnan(i) else i for i in cor_list]\n",
        "    \n",
        "    # feature name\n",
        "    cor_feature = X.iloc[:,np.argsort(np.abs(cor_list))[-num_feats:]].columns.tolist()\n",
        "    \n",
        "    # feature selection? 0 for not select, 1 for select\n",
        "    cor_support = [True if i in cor_feature else False for i in feature_name]\n",
        "    return cor_support, cor_feature\n",
        "\n",
        "\n",
        "cor_support, cor_feature = cor_selector(X, y, num_feats)\n",
        "print(str(len(cor_feature)), 'selected features:', cor_feature)"
      ],
      "metadata": {
        "colab": {
          "base_uri": "https://localhost:8080/"
        },
        "id": "g1N2rEF52YsJ",
        "outputId": "3b401854-c991-49b1-de76-e75a297f0bf6"
      },
      "execution_count": 138,
      "outputs": [
        {
          "output_type": "stream",
          "name": "stdout",
          "text": [
            "30 selected features: ['alpha_ec_34', 'alpha_ec_16', 'ratio_beta_41', 'ratio_beta_5', 'alpha_ec_30', 'ratio_beta_8', 'theta_ec_25', 'ratio_beta_10', 'ratio_beta_33', 'ratio_beta_1', 'ratio_beta_13', 'alpha_ec_31', 'ratio_beta_30', 'ratio_beta_36', 'ratio_beta_26', 'ratio_beta_38', 'alpha_ec_23', 'ratio_beta_6', 'ratio_beta_7', 'alpha_ec_17', 'ratio_beta_21', 'alpha_ec_25', 'ratio_beta_47', 'ratio_beta_29', 'ratio_beta_0', 'ratio_beta_2', 'ratio_beta_4', 'ratio_beta_37', 'ratio_beta_35', 'ratio_beta_34']\n"
          ]
        }
      ]
    },
    {
      "cell_type": "code",
      "source": [
        "cor_feature.append(\"labels\")"
      ],
      "metadata": {
        "id": "3i3T7-MzIIdQ"
      },
      "execution_count": 139,
      "outputs": []
    },
    {
      "cell_type": "code",
      "source": [
        "cor_feature"
      ],
      "metadata": {
        "colab": {
          "base_uri": "https://localhost:8080/"
        },
        "id": "FgQek0QnIKvx",
        "outputId": "503df876-2ca7-47ad-f378-a1c14b4693a3"
      },
      "execution_count": 140,
      "outputs": [
        {
          "output_type": "execute_result",
          "data": {
            "text/plain": [
              "['alpha_ec_34',\n",
              " 'alpha_ec_16',\n",
              " 'ratio_beta_41',\n",
              " 'ratio_beta_5',\n",
              " 'alpha_ec_30',\n",
              " 'ratio_beta_8',\n",
              " 'theta_ec_25',\n",
              " 'ratio_beta_10',\n",
              " 'ratio_beta_33',\n",
              " 'ratio_beta_1',\n",
              " 'ratio_beta_13',\n",
              " 'alpha_ec_31',\n",
              " 'ratio_beta_30',\n",
              " 'ratio_beta_36',\n",
              " 'ratio_beta_26',\n",
              " 'ratio_beta_38',\n",
              " 'alpha_ec_23',\n",
              " 'ratio_beta_6',\n",
              " 'ratio_beta_7',\n",
              " 'alpha_ec_17',\n",
              " 'ratio_beta_21',\n",
              " 'alpha_ec_25',\n",
              " 'ratio_beta_47',\n",
              " 'ratio_beta_29',\n",
              " 'ratio_beta_0',\n",
              " 'ratio_beta_2',\n",
              " 'ratio_beta_4',\n",
              " 'ratio_beta_37',\n",
              " 'ratio_beta_35',\n",
              " 'ratio_beta_34',\n",
              " 'labels']"
            ]
          },
          "metadata": {},
          "execution_count": 140
        }
      ]
    },
    {
      "cell_type": "code",
      "source": [
        "cor_df = df[cor_feature]\n",
        "X_cor_selected = cor_df.drop(\"labels\", axis=1)\n",
        "y_cor_selected = cor_df[\"labels\"]"
      ],
      "metadata": {
        "id": "zDFaIOA8HrUB"
      },
      "execution_count": 141,
      "outputs": []
    },
    {
      "cell_type": "code",
      "source": [
        "X_cor_train, X_cor_test, y_cor_train, y_cor_test = train_test_split(X_cor_selected, y_cor_selected, test_size=0.2, random_state=42, stratify=y_cor_selected)"
      ],
      "metadata": {
        "id": "ZaMWOez9I4jf"
      },
      "execution_count": 142,
      "outputs": []
    },
    {
      "cell_type": "markdown",
      "source": [
        "#### KNN with Pearson Correlation Feature Selection"
      ],
      "metadata": {
        "id": "G4hFxh5tJMwC"
      }
    },
    {
      "cell_type": "code",
      "source": [
        "knn_cor = KNeighborsClassifier(n_neighbors=2)\n",
        "knn_cor.fit(X_cor_train, y_cor_train)\n",
        "report(knn_cor, X_cor_test, y_cor_test)"
      ],
      "metadata": {
        "colab": {
          "base_uri": "https://localhost:8080/"
        },
        "id": "caLcqeboJL-Y",
        "outputId": "648f34ed-fd7c-45dd-8bdb-deebbfafe95c"
      },
      "execution_count": 143,
      "outputs": [
        {
          "output_type": "stream",
          "name": "stdout",
          "text": [
            "              precision    recall  f1-score   support\n",
            "\n",
            "         0.0       0.73      0.95      0.83        20\n",
            "         1.0       0.90      0.56      0.69        16\n",
            "\n",
            "    accuracy                           0.78        36\n",
            "   macro avg       0.82      0.76      0.76        36\n",
            "weighted avg       0.81      0.78      0.77        36\n",
            "\n"
          ]
        }
      ]
    },
    {
      "cell_type": "markdown",
      "source": [
        "#### LOOCV KNN with Pearson Correlation Feature Selection"
      ],
      "metadata": {
        "id": "WYZAxK2xKFvD"
      }
    },
    {
      "cell_type": "code",
      "source": [
        "loocv(knn_cor, cv, X_cor_train, y_cor_train)"
      ],
      "metadata": {
        "colab": {
          "base_uri": "https://localhost:8080/"
        },
        "id": "9UsptJzLJ_28",
        "outputId": "20fc77a6-acdd-468d-e222-2b04adcd0a20"
      },
      "execution_count": 144,
      "outputs": [
        {
          "output_type": "stream",
          "name": "stdout",
          "text": [
            "Accuracy: 0.660 (0.474)\n"
          ]
        }
      ]
    },
    {
      "cell_type": "markdown",
      "source": [
        "#### SVM with Pearson Correlation Feature Selection"
      ],
      "metadata": {
        "id": "bzq81dU_LDfF"
      }
    },
    {
      "cell_type": "code",
      "source": [
        "svm_cor = SVC()\n",
        "svm_cor.fit(X_cor_train, y_cor_train)\n",
        "report(svm_cor, X_cor_test, y_cor_test)"
      ],
      "metadata": {
        "colab": {
          "base_uri": "https://localhost:8080/"
        },
        "id": "2w33JvDBK_yp",
        "outputId": "3b0f7317-2b29-44a4-aeac-c01a841ee4dc"
      },
      "execution_count": 145,
      "outputs": [
        {
          "output_type": "stream",
          "name": "stdout",
          "text": [
            "              precision    recall  f1-score   support\n",
            "\n",
            "         0.0       0.78      0.90      0.84        20\n",
            "         1.0       0.85      0.69      0.76        16\n",
            "\n",
            "    accuracy                           0.81        36\n",
            "   macro avg       0.81      0.79      0.80        36\n",
            "weighted avg       0.81      0.81      0.80        36\n",
            "\n"
          ]
        }
      ]
    },
    {
      "cell_type": "markdown",
      "source": [
        "#### LOOCV SVM with Pearson Correlation Feature Selection"
      ],
      "metadata": {
        "id": "z1Hi3oimLfUZ"
      }
    },
    {
      "cell_type": "code",
      "source": [
        "loocv(svm_cor, cv, X_cor_train, y_cor_train)"
      ],
      "metadata": {
        "colab": {
          "base_uri": "https://localhost:8080/"
        },
        "id": "myLtvFBELWTz",
        "outputId": "dc484f62-a290-4408-8dc1-7159c1b15153"
      },
      "execution_count": 147,
      "outputs": [
        {
          "output_type": "stream",
          "name": "stdout",
          "text": [
            "Accuracy: 0.715 (0.451)\n"
          ]
        }
      ]
    },
    {
      "cell_type": "markdown",
      "source": [
        "### Selecting features using Lasso regularisation using SelectFromModel"
      ],
      "metadata": {
        "id": "pXZNXVwS81KJ"
      }
    },
    {
      "cell_type": "code",
      "source": [
        "sel_ = SelectFromModel(LogisticRegression(C=1, penalty='l2'))\n",
        "sel_.fit(X_train, y_train)"
      ],
      "metadata": {
        "colab": {
          "base_uri": "https://localhost:8080/"
        },
        "id": "6H4tOvKF6DEE",
        "outputId": "f3ba34ca-e2f3-4c26-e84e-cd06b9b50c24"
      },
      "execution_count": 148,
      "outputs": [
        {
          "output_type": "execute_result",
          "data": {
            "text/plain": [
              "SelectFromModel(estimator=LogisticRegression(C=1))"
            ]
          },
          "metadata": {},
          "execution_count": 148
        }
      ]
    },
    {
      "cell_type": "markdown",
      "source": [
        "#### Visualising features that were kept by the lasso regularisation"
      ],
      "metadata": {
        "id": "wi_GMkHO9NyP"
      }
    },
    {
      "cell_type": "code",
      "source": [
        "sel_.get_support()"
      ],
      "metadata": {
        "colab": {
          "base_uri": "https://localhost:8080/"
        },
        "id": "Arm9lzKW9AOY",
        "outputId": "8329a143-f6df-4527-e446-9c00425361a5"
      },
      "execution_count": 149,
      "outputs": [
        {
          "output_type": "execute_result",
          "data": {
            "text/plain": [
              "array([False, False, False, False, False,  True, False, False, False,\n",
              "       False, False, False, False, False,  True, False,  True,  True,\n",
              "        True, False, False,  True,  True,  True, False,  True, False,\n",
              "       False, False, False, False,  True, False, False, False,  True,\n",
              "       False,  True, False,  True, False, False,  True, False,  True,\n",
              "        True, False, False, False,  True,  True, False,  True,  True,\n",
              "        True,  True, False, False,  True,  True,  True,  True,  True,\n",
              "       False,  True, False,  True,  True, False, False,  True, False,\n",
              "       False, False,  True,  True, False, False, False,  True, False,\n",
              "        True, False,  True, False,  True, False,  True, False,  True,\n",
              "        True, False,  True,  True, False, False,  True, False,  True,\n",
              "       False, False, False, False, False, False, False, False, False,\n",
              "       False, False, False, False, False,  True,  True, False,  True,\n",
              "        True, False, False, False,  True,  True, False, False,  True,\n",
              "       False, False,  True, False, False, False, False, False, False,\n",
              "       False, False, False, False,  True, False,  True,  True, False,\n",
              "        True, False,  True,  True, False,  True,  True,  True,  True,\n",
              "        True,  True,  True, False, False,  True, False, False, False,\n",
              "       False, False, False,  True, False,  True,  True, False,  True,\n",
              "       False, False,  True,  True,  True, False,  True,  True,  True,\n",
              "       False, False, False, False,  True,  True,  True,  True, False,\n",
              "       False,  True,  True, False, False, False, False, False,  True,\n",
              "        True, False, False, False, False,  True,  True, False,  True,\n",
              "        True,  True, False, False, False,  True,  True,  True, False,\n",
              "        True, False,  True,  True, False, False, False,  True,  True,\n",
              "       False,  True, False, False, False, False,  True,  True, False,\n",
              "       False, False, False, False,  True, False,  True,  True,  True,\n",
              "        True, False,  True, False, False, False, False, False, False,\n",
              "       False, False,  True, False,  True,  True,  True,  True, False,\n",
              "       False, False, False,  True,  True,  True, False,  True,  True,\n",
              "        True,  True,  True, False, False,  True, False, False, False,\n",
              "       False, False, False,  True, False, False, False, False, False,\n",
              "        True, False, False,  True, False,  True,  True,  True,  True,\n",
              "       False, False,  True, False, False, False, False, False, False,\n",
              "       False, False, False,  True, False, False,  True, False,  True,\n",
              "       False,  True, False, False,  True, False,  True,  True,  True,\n",
              "        True,  True, False, False, False, False,  True, False,  True,\n",
              "        True, False,  True, False, False, False, False,  True,  True,\n",
              "       False, False, False,  True,  True,  True, False,  True, False,\n",
              "       False, False, False,  True, False,  True,  True,  True, False,\n",
              "        True, False,  True, False,  True,  True,  True,  True,  True,\n",
              "       False,  True,  True, False,  True, False, False,  True, False,\n",
              "       False,  True,  True,  True, False,  True,  True,  True,  True,\n",
              "       False,  True, False, False, False, False, False,  True, False,\n",
              "       False, False,  True, False, False,  True, False, False, False,\n",
              "       False, False, False,  True, False,  True, False,  True, False,\n",
              "       False, False, False,  True, False,  True,  True, False,  True,\n",
              "        True, False, False, False,  True, False,  True,  True,  True])"
            ]
          },
          "metadata": {},
          "execution_count": 149
        }
      ]
    },
    {
      "cell_type": "markdown",
      "source": [
        "#### Make a list of with the selected features"
      ],
      "metadata": {
        "id": "0qWbg_rG9VGV"
      }
    },
    {
      "cell_type": "code",
      "source": [
        "selected_feat = X.columns[(sel_.get_support())]\n",
        "print('total features: {}'.format((X_train.shape[1])))\n",
        "print('selected features: {}'.format(len(selected_feat)))\n",
        "print('features with coefficients shrank to zero: {}'.format(\n",
        "      np.sum(sel_.estimator_.coef_ == 0)))"
      ],
      "metadata": {
        "colab": {
          "base_uri": "https://localhost:8080/"
        },
        "id": "C4bXPxeV9MAS",
        "outputId": "4c45627c-f12e-44bc-9d13-2004f3c11dfc"
      },
      "execution_count": 150,
      "outputs": [
        {
          "output_type": "stream",
          "name": "stdout",
          "text": [
            "total features: 432\n",
            "selected features: 186\n",
            "features with coefficients shrank to zero: 0\n"
          ]
        }
      ]
    },
    {
      "cell_type": "markdown",
      "source": [
        "### Identifying the removed features"
      ],
      "metadata": {
        "id": "e9Km3nnU-ABd"
      }
    },
    {
      "cell_type": "code",
      "source": [
        "X.columns, sel_.get_support()"
      ],
      "metadata": {
        "colab": {
          "base_uri": "https://localhost:8080/"
        },
        "id": "rymNaNId-D1E",
        "outputId": "0d604670-2252-4110-ecf2-e8f70106797e"
      },
      "execution_count": 152,
      "outputs": [
        {
          "output_type": "execute_result",
          "data": {
            "text/plain": [
              "(Index(['alpha_ec_0', 'alpha_ec_1', 'alpha_ec_2', 'alpha_ec_3', 'alpha_ec_4',\n",
              "        'alpha_ec_5', 'alpha_ec_6', 'alpha_ec_7', 'alpha_ec_8', 'alpha_ec_9',\n",
              "        ...\n",
              "        'ratio_theta_38', 'ratio_theta_39', 'ratio_theta_40', 'ratio_theta_41',\n",
              "        'ratio_theta_42', 'ratio_theta_43', 'ratio_theta_44', 'ratio_theta_45',\n",
              "        'ratio_theta_46', 'ratio_theta_47'],\n",
              "       dtype='object', length=432),\n",
              " array([False, False, False, False, False,  True, False, False, False,\n",
              "        False, False, False, False, False,  True, False,  True,  True,\n",
              "         True, False, False,  True,  True,  True, False,  True, False,\n",
              "        False, False, False, False,  True, False, False, False,  True,\n",
              "        False,  True, False,  True, False, False,  True, False,  True,\n",
              "         True, False, False, False,  True,  True, False,  True,  True,\n",
              "         True,  True, False, False,  True,  True,  True,  True,  True,\n",
              "        False,  True, False,  True,  True, False, False,  True, False,\n",
              "        False, False,  True,  True, False, False, False,  True, False,\n",
              "         True, False,  True, False,  True, False,  True, False,  True,\n",
              "         True, False,  True,  True, False, False,  True, False,  True,\n",
              "        False, False, False, False, False, False, False, False, False,\n",
              "        False, False, False, False, False,  True,  True, False,  True,\n",
              "         True, False, False, False,  True,  True, False, False,  True,\n",
              "        False, False,  True, False, False, False, False, False, False,\n",
              "        False, False, False, False,  True, False,  True,  True, False,\n",
              "         True, False,  True,  True, False,  True,  True,  True,  True,\n",
              "         True,  True,  True, False, False,  True, False, False, False,\n",
              "        False, False, False,  True, False,  True,  True, False,  True,\n",
              "        False, False,  True,  True,  True, False,  True,  True,  True,\n",
              "        False, False, False, False,  True,  True,  True,  True, False,\n",
              "        False,  True,  True, False, False, False, False, False,  True,\n",
              "         True, False, False, False, False,  True,  True, False,  True,\n",
              "         True,  True, False, False, False,  True,  True,  True, False,\n",
              "         True, False,  True,  True, False, False, False,  True,  True,\n",
              "        False,  True, False, False, False, False,  True,  True, False,\n",
              "        False, False, False, False,  True, False,  True,  True,  True,\n",
              "         True, False,  True, False, False, False, False, False, False,\n",
              "        False, False,  True, False,  True,  True,  True,  True, False,\n",
              "        False, False, False,  True,  True,  True, False,  True,  True,\n",
              "         True,  True,  True, False, False,  True, False, False, False,\n",
              "        False, False, False,  True, False, False, False, False, False,\n",
              "         True, False, False,  True, False,  True,  True,  True,  True,\n",
              "        False, False,  True, False, False, False, False, False, False,\n",
              "        False, False, False,  True, False, False,  True, False,  True,\n",
              "        False,  True, False, False,  True, False,  True,  True,  True,\n",
              "         True,  True, False, False, False, False,  True, False,  True,\n",
              "         True, False,  True, False, False, False, False,  True,  True,\n",
              "        False, False, False,  True,  True,  True, False,  True, False,\n",
              "        False, False, False,  True, False,  True,  True,  True, False,\n",
              "         True, False,  True, False,  True,  True,  True,  True,  True,\n",
              "        False,  True,  True, False,  True, False, False,  True, False,\n",
              "        False,  True,  True,  True, False,  True,  True,  True,  True,\n",
              "        False,  True, False, False, False, False, False,  True, False,\n",
              "        False, False,  True, False, False,  True, False, False, False,\n",
              "        False, False, False,  True, False,  True, False,  True, False,\n",
              "        False, False, False,  True, False,  True,  True, False,  True,\n",
              "         True, False, False, False,  True, False,  True,  True,  True]))"
            ]
          },
          "metadata": {},
          "execution_count": 152
        }
      ]
    },
    {
      "cell_type": "code",
      "source": [
        "selected = []\n",
        "for i, v in enumerate(sel_.get_support()):\n",
        "  if v:\n",
        "    selected.append(i)"
      ],
      "metadata": {
        "id": "-FEEQfHfASi4"
      },
      "execution_count": 162,
      "outputs": []
    },
    {
      "cell_type": "code",
      "source": [
        "df_l2 = df[df.columns[selected]]\n",
        "X_l2 = df_l2\n",
        "y_l2 = df[\"labels\"]"
      ],
      "metadata": {
        "id": "XQZkzOZuAk8T"
      },
      "execution_count": 167,
      "outputs": []
    },
    {
      "cell_type": "code",
      "source": [
        "X_l2_train, X_l2_test, y_l2_train, y_l2_test = train_test_split(X_l2, y_l2, test_size=0.2, random_state=42, stratify=y_l2)"
      ],
      "metadata": {
        "id": "Qa3ZxLN7M1A2"
      },
      "execution_count": 168,
      "outputs": []
    },
    {
      "cell_type": "markdown",
      "source": [
        "#### KNN with L2 Regulization Feature Selection"
      ],
      "metadata": {
        "id": "OwLaqbF9NTCt"
      }
    },
    {
      "cell_type": "code",
      "source": [
        "knn_l2 = KNeighborsClassifier(n_neighbors=2)\n",
        "knn_l2.fit(X_l2_train, y_l2_train)\n",
        "report(knn_l2, X_l2_test, y_l2_test)"
      ],
      "metadata": {
        "colab": {
          "base_uri": "https://localhost:8080/"
        },
        "outputId": "8e41380f-dbbf-4a24-8553-b78540f5248c",
        "id": "vziP8_MANTCu"
      },
      "execution_count": 169,
      "outputs": [
        {
          "output_type": "stream",
          "name": "stdout",
          "text": [
            "              precision    recall  f1-score   support\n",
            "\n",
            "         0.0       0.69      1.00      0.82        20\n",
            "         1.0       1.00      0.44      0.61        16\n",
            "\n",
            "    accuracy                           0.75        36\n",
            "   macro avg       0.84      0.72      0.71        36\n",
            "weighted avg       0.83      0.75      0.72        36\n",
            "\n"
          ]
        }
      ]
    },
    {
      "cell_type": "markdown",
      "source": [
        "#### LOOCV KNN with L2 Regulization Feature Selection"
      ],
      "metadata": {
        "id": "aDc5jHJ0NTCu"
      }
    },
    {
      "cell_type": "code",
      "source": [
        "loocv(knn_l2, cv, X_l2_train, y_l2_train)"
      ],
      "metadata": {
        "colab": {
          "base_uri": "https://localhost:8080/"
        },
        "outputId": "4ec04ca0-07d7-4b6b-a577-14a7fbfbb8d3",
        "id": "YdVw9lMCNTCu"
      },
      "execution_count": 170,
      "outputs": [
        {
          "output_type": "stream",
          "name": "stdout",
          "text": [
            "Accuracy: 0.736 (0.441)\n"
          ]
        }
      ]
    },
    {
      "cell_type": "markdown",
      "source": [
        "#### SVM with L2 Regulization Feature Selection"
      ],
      "metadata": {
        "id": "eNLNwR6HNTCu"
      }
    },
    {
      "cell_type": "code",
      "source": [
        "svm_l2 = SVC()\n",
        "svm_l2.fit(X_l2_train, y_l2_train)\n",
        "report(svm_l2, X_l2_test, y_l2_test)"
      ],
      "metadata": {
        "colab": {
          "base_uri": "https://localhost:8080/"
        },
        "outputId": "cbc7ff99-f89e-4a2d-9d9c-877959669e3c",
        "id": "u3qBtTslNTCu"
      },
      "execution_count": 171,
      "outputs": [
        {
          "output_type": "stream",
          "name": "stdout",
          "text": [
            "              precision    recall  f1-score   support\n",
            "\n",
            "         0.0       0.85      0.85      0.85        20\n",
            "         1.0       0.81      0.81      0.81        16\n",
            "\n",
            "    accuracy                           0.83        36\n",
            "   macro avg       0.83      0.83      0.83        36\n",
            "weighted avg       0.83      0.83      0.83        36\n",
            "\n"
          ]
        }
      ]
    },
    {
      "cell_type": "markdown",
      "source": [
        "#### LOOCV SVM with L2 Regulization Feature Selection"
      ],
      "metadata": {
        "id": "7TTgYo38NTCv"
      }
    },
    {
      "cell_type": "code",
      "source": [
        "loocv(svm_l2, cv, X_l2_train, y_l2_train)"
      ],
      "metadata": {
        "colab": {
          "base_uri": "https://localhost:8080/"
        },
        "outputId": "7860a350-1e14-4887-e634-c069cf79a1f9",
        "id": "q7a_KG0fNTCv"
      },
      "execution_count": 172,
      "outputs": [
        {
          "output_type": "stream",
          "name": "stdout",
          "text": [
            "Accuracy: 0.694 (0.461)\n"
          ]
        }
      ]
    }
  ]
}