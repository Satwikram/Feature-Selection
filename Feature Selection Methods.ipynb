{
  "nbformat": 4,
  "nbformat_minor": 0,
  "metadata": {
    "colab": {
      "provenance": [],
      "authorship_tag": "ABX9TyNpKDP4vijFxS5ytZtcwfzS",
      "include_colab_link": true
    },
    "kernelspec": {
      "name": "python3",
      "display_name": "Python 3"
    },
    "language_info": {
      "name": "python"
    },
    "accelerator": "GPU",
    "gpuClass": "standard"
  },
  "cells": [
    {
      "cell_type": "markdown",
      "metadata": {
        "id": "view-in-github",
        "colab_type": "text"
      },
      "source": [
        "<a href=\"https://colab.research.google.com/github/Satwikram/Feature-Selection/blob/main/Feature%20Selection%20Methods.ipynb\" target=\"_parent\"><img src=\"https://colab.research.google.com/assets/colab-badge.svg\" alt=\"Open In Colab\"/></a>"
      ]
    },
    {
      "cell_type": "markdown",
      "source": [
        "### Author: Satwik Ram K"
      ],
      "metadata": {
        "id": "G_wzxbCTxY5W"
      }
    },
    {
      "cell_type": "markdown",
      "source": [
        "### Imports"
      ],
      "metadata": {
        "id": "i7h8h8Hjxezr"
      }
    },
    {
      "cell_type": "code",
      "execution_count": 69,
      "metadata": {
        "id": "lKeqQsZXw8PT"
      },
      "outputs": [],
      "source": [
        "import pandas as pd\n",
        "\n",
        "import numpy as np\n",
        "\n",
        "from sklearn.model_selection import train_test_split\n",
        "from sklearn.preprocessing import StandardScaler\n",
        "\n",
        "from sklearn.neighbors import KNeighborsClassifier\n",
        "from sklearn.svm import SVC\n",
        "\n",
        "from sklearn.feature_selection import SelectFromModel\n",
        "from sklearn.linear_model import Lasso, LogisticRegression\n",
        "\n",
        "from sklearn.model_selection import LeaveOneOut\n",
        "from sklearn.model_selection import cross_val_score\n",
        "\n",
        "from sklearn.metrics import *"
      ]
    },
    {
      "cell_type": "markdown",
      "source": [
        "### Loading Dataset"
      ],
      "metadata": {
        "id": "sMdsSlzPylxS"
      }
    },
    {
      "cell_type": "code",
      "source": [
        "df = pd.read_csv(\"/content/dataset.csv\")"
      ],
      "metadata": {
        "id": "EbitIvTxxiOk"
      },
      "execution_count": 6,
      "outputs": []
    },
    {
      "cell_type": "code",
      "source": [
        "df.head()"
      ],
      "metadata": {
        "colab": {
          "base_uri": "https://localhost:8080/",
          "height": 299
        },
        "id": "xl3ZMqDhyqC-",
        "outputId": "a292efce-07b7-4754-f2c0-71854f7f3831"
      },
      "execution_count": 7,
      "outputs": [
        {
          "output_type": "execute_result",
          "data": {
            "text/plain": [
              "   alpha_ec_0  alpha_ec_1  alpha_ec_2  alpha_ec_3  alpha_ec_4  alpha_ec_5  \\\n",
              "0       0.112       0.124       0.129       0.113       0.106       0.107   \n",
              "1       0.298       0.269       0.262       0.380       0.344       0.285   \n",
              "2       0.369       0.396       0.390       0.258       0.406       0.442   \n",
              "3       0.761       0.777       0.770       0.602       0.702       0.727   \n",
              "4       0.168       0.151       0.147       0.157       0.150       0.142   \n",
              "\n",
              "   alpha_ec_6  alpha_ec_7  alpha_ec_8  alpha_ec_9  ...  ratio_theta_39  \\\n",
              "0       0.108       0.111       0.109       0.159  ...           0.739   \n",
              "1       0.248       0.250       0.260       0.260  ...           0.328   \n",
              "2       0.440       0.399       0.315       0.283  ...           0.865   \n",
              "3       0.762       0.789       0.730       0.522  ...           0.251   \n",
              "4       0.132       0.128       0.144       0.173  ...           1.730   \n",
              "\n",
              "   ratio_theta_40  ratio_theta_41  ratio_theta_42  ratio_theta_43  \\\n",
              "0           0.587           0.552           0.548           0.579   \n",
              "1           0.432           0.496           0.407           0.313   \n",
              "2           1.090           0.318           0.364           0.506   \n",
              "3           0.432           0.713           0.533           0.285   \n",
              "4           1.240           2.760           3.010           2.440   \n",
              "\n",
              "   ratio_theta_44  ratio_theta_45  ratio_theta_46  ratio_theta_47  labels  \n",
              "0           0.593           0.604           0.563           1.010     0.0  \n",
              "1           0.664           0.584           0.467           0.749     0.0  \n",
              "2           0.335           0.494           0.624           0.614     0.0  \n",
              "3           0.681           0.663           0.253           0.854     0.0  \n",
              "4           2.530           2.580           2.010           2.290     0.0  \n",
              "\n",
              "[5 rows x 433 columns]"
            ],
            "text/html": [
              "\n",
              "  <div id=\"df-674c38d1-9af1-45ce-8935-f8a39ed42737\">\n",
              "    <div class=\"colab-df-container\">\n",
              "      <div>\n",
              "<style scoped>\n",
              "    .dataframe tbody tr th:only-of-type {\n",
              "        vertical-align: middle;\n",
              "    }\n",
              "\n",
              "    .dataframe tbody tr th {\n",
              "        vertical-align: top;\n",
              "    }\n",
              "\n",
              "    .dataframe thead th {\n",
              "        text-align: right;\n",
              "    }\n",
              "</style>\n",
              "<table border=\"1\" class=\"dataframe\">\n",
              "  <thead>\n",
              "    <tr style=\"text-align: right;\">\n",
              "      <th></th>\n",
              "      <th>alpha_ec_0</th>\n",
              "      <th>alpha_ec_1</th>\n",
              "      <th>alpha_ec_2</th>\n",
              "      <th>alpha_ec_3</th>\n",
              "      <th>alpha_ec_4</th>\n",
              "      <th>alpha_ec_5</th>\n",
              "      <th>alpha_ec_6</th>\n",
              "      <th>alpha_ec_7</th>\n",
              "      <th>alpha_ec_8</th>\n",
              "      <th>alpha_ec_9</th>\n",
              "      <th>...</th>\n",
              "      <th>ratio_theta_39</th>\n",
              "      <th>ratio_theta_40</th>\n",
              "      <th>ratio_theta_41</th>\n",
              "      <th>ratio_theta_42</th>\n",
              "      <th>ratio_theta_43</th>\n",
              "      <th>ratio_theta_44</th>\n",
              "      <th>ratio_theta_45</th>\n",
              "      <th>ratio_theta_46</th>\n",
              "      <th>ratio_theta_47</th>\n",
              "      <th>labels</th>\n",
              "    </tr>\n",
              "  </thead>\n",
              "  <tbody>\n",
              "    <tr>\n",
              "      <th>0</th>\n",
              "      <td>0.112</td>\n",
              "      <td>0.124</td>\n",
              "      <td>0.129</td>\n",
              "      <td>0.113</td>\n",
              "      <td>0.106</td>\n",
              "      <td>0.107</td>\n",
              "      <td>0.108</td>\n",
              "      <td>0.111</td>\n",
              "      <td>0.109</td>\n",
              "      <td>0.159</td>\n",
              "      <td>...</td>\n",
              "      <td>0.739</td>\n",
              "      <td>0.587</td>\n",
              "      <td>0.552</td>\n",
              "      <td>0.548</td>\n",
              "      <td>0.579</td>\n",
              "      <td>0.593</td>\n",
              "      <td>0.604</td>\n",
              "      <td>0.563</td>\n",
              "      <td>1.010</td>\n",
              "      <td>0.0</td>\n",
              "    </tr>\n",
              "    <tr>\n",
              "      <th>1</th>\n",
              "      <td>0.298</td>\n",
              "      <td>0.269</td>\n",
              "      <td>0.262</td>\n",
              "      <td>0.380</td>\n",
              "      <td>0.344</td>\n",
              "      <td>0.285</td>\n",
              "      <td>0.248</td>\n",
              "      <td>0.250</td>\n",
              "      <td>0.260</td>\n",
              "      <td>0.260</td>\n",
              "      <td>...</td>\n",
              "      <td>0.328</td>\n",
              "      <td>0.432</td>\n",
              "      <td>0.496</td>\n",
              "      <td>0.407</td>\n",
              "      <td>0.313</td>\n",
              "      <td>0.664</td>\n",
              "      <td>0.584</td>\n",
              "      <td>0.467</td>\n",
              "      <td>0.749</td>\n",
              "      <td>0.0</td>\n",
              "    </tr>\n",
              "    <tr>\n",
              "      <th>2</th>\n",
              "      <td>0.369</td>\n",
              "      <td>0.396</td>\n",
              "      <td>0.390</td>\n",
              "      <td>0.258</td>\n",
              "      <td>0.406</td>\n",
              "      <td>0.442</td>\n",
              "      <td>0.440</td>\n",
              "      <td>0.399</td>\n",
              "      <td>0.315</td>\n",
              "      <td>0.283</td>\n",
              "      <td>...</td>\n",
              "      <td>0.865</td>\n",
              "      <td>1.090</td>\n",
              "      <td>0.318</td>\n",
              "      <td>0.364</td>\n",
              "      <td>0.506</td>\n",
              "      <td>0.335</td>\n",
              "      <td>0.494</td>\n",
              "      <td>0.624</td>\n",
              "      <td>0.614</td>\n",
              "      <td>0.0</td>\n",
              "    </tr>\n",
              "    <tr>\n",
              "      <th>3</th>\n",
              "      <td>0.761</td>\n",
              "      <td>0.777</td>\n",
              "      <td>0.770</td>\n",
              "      <td>0.602</td>\n",
              "      <td>0.702</td>\n",
              "      <td>0.727</td>\n",
              "      <td>0.762</td>\n",
              "      <td>0.789</td>\n",
              "      <td>0.730</td>\n",
              "      <td>0.522</td>\n",
              "      <td>...</td>\n",
              "      <td>0.251</td>\n",
              "      <td>0.432</td>\n",
              "      <td>0.713</td>\n",
              "      <td>0.533</td>\n",
              "      <td>0.285</td>\n",
              "      <td>0.681</td>\n",
              "      <td>0.663</td>\n",
              "      <td>0.253</td>\n",
              "      <td>0.854</td>\n",
              "      <td>0.0</td>\n",
              "    </tr>\n",
              "    <tr>\n",
              "      <th>4</th>\n",
              "      <td>0.168</td>\n",
              "      <td>0.151</td>\n",
              "      <td>0.147</td>\n",
              "      <td>0.157</td>\n",
              "      <td>0.150</td>\n",
              "      <td>0.142</td>\n",
              "      <td>0.132</td>\n",
              "      <td>0.128</td>\n",
              "      <td>0.144</td>\n",
              "      <td>0.173</td>\n",
              "      <td>...</td>\n",
              "      <td>1.730</td>\n",
              "      <td>1.240</td>\n",
              "      <td>2.760</td>\n",
              "      <td>3.010</td>\n",
              "      <td>2.440</td>\n",
              "      <td>2.530</td>\n",
              "      <td>2.580</td>\n",
              "      <td>2.010</td>\n",
              "      <td>2.290</td>\n",
              "      <td>0.0</td>\n",
              "    </tr>\n",
              "  </tbody>\n",
              "</table>\n",
              "<p>5 rows × 433 columns</p>\n",
              "</div>\n",
              "      <button class=\"colab-df-convert\" onclick=\"convertToInteractive('df-674c38d1-9af1-45ce-8935-f8a39ed42737')\"\n",
              "              title=\"Convert this dataframe to an interactive table.\"\n",
              "              style=\"display:none;\">\n",
              "        \n",
              "  <svg xmlns=\"http://www.w3.org/2000/svg\" height=\"24px\"viewBox=\"0 0 24 24\"\n",
              "       width=\"24px\">\n",
              "    <path d=\"M0 0h24v24H0V0z\" fill=\"none\"/>\n",
              "    <path d=\"M18.56 5.44l.94 2.06.94-2.06 2.06-.94-2.06-.94-.94-2.06-.94 2.06-2.06.94zm-11 1L8.5 8.5l.94-2.06 2.06-.94-2.06-.94L8.5 2.5l-.94 2.06-2.06.94zm10 10l.94 2.06.94-2.06 2.06-.94-2.06-.94-.94-2.06-.94 2.06-2.06.94z\"/><path d=\"M17.41 7.96l-1.37-1.37c-.4-.4-.92-.59-1.43-.59-.52 0-1.04.2-1.43.59L10.3 9.45l-7.72 7.72c-.78.78-.78 2.05 0 2.83L4 21.41c.39.39.9.59 1.41.59.51 0 1.02-.2 1.41-.59l7.78-7.78 2.81-2.81c.8-.78.8-2.07 0-2.86zM5.41 20L4 18.59l7.72-7.72 1.47 1.35L5.41 20z\"/>\n",
              "  </svg>\n",
              "      </button>\n",
              "      \n",
              "  <style>\n",
              "    .colab-df-container {\n",
              "      display:flex;\n",
              "      flex-wrap:wrap;\n",
              "      gap: 12px;\n",
              "    }\n",
              "\n",
              "    .colab-df-convert {\n",
              "      background-color: #E8F0FE;\n",
              "      border: none;\n",
              "      border-radius: 50%;\n",
              "      cursor: pointer;\n",
              "      display: none;\n",
              "      fill: #1967D2;\n",
              "      height: 32px;\n",
              "      padding: 0 0 0 0;\n",
              "      width: 32px;\n",
              "    }\n",
              "\n",
              "    .colab-df-convert:hover {\n",
              "      background-color: #E2EBFA;\n",
              "      box-shadow: 0px 1px 2px rgba(60, 64, 67, 0.3), 0px 1px 3px 1px rgba(60, 64, 67, 0.15);\n",
              "      fill: #174EA6;\n",
              "    }\n",
              "\n",
              "    [theme=dark] .colab-df-convert {\n",
              "      background-color: #3B4455;\n",
              "      fill: #D2E3FC;\n",
              "    }\n",
              "\n",
              "    [theme=dark] .colab-df-convert:hover {\n",
              "      background-color: #434B5C;\n",
              "      box-shadow: 0px 1px 3px 1px rgba(0, 0, 0, 0.15);\n",
              "      filter: drop-shadow(0px 1px 2px rgba(0, 0, 0, 0.3));\n",
              "      fill: #FFFFFF;\n",
              "    }\n",
              "  </style>\n",
              "\n",
              "      <script>\n",
              "        const buttonEl =\n",
              "          document.querySelector('#df-674c38d1-9af1-45ce-8935-f8a39ed42737 button.colab-df-convert');\n",
              "        buttonEl.style.display =\n",
              "          google.colab.kernel.accessAllowed ? 'block' : 'none';\n",
              "\n",
              "        async function convertToInteractive(key) {\n",
              "          const element = document.querySelector('#df-674c38d1-9af1-45ce-8935-f8a39ed42737');\n",
              "          const dataTable =\n",
              "            await google.colab.kernel.invokeFunction('convertToInteractive',\n",
              "                                                     [key], {});\n",
              "          if (!dataTable) return;\n",
              "\n",
              "          const docLinkHtml = 'Like what you see? Visit the ' +\n",
              "            '<a target=\"_blank\" href=https://colab.research.google.com/notebooks/data_table.ipynb>data table notebook</a>'\n",
              "            + ' to learn more about interactive tables.';\n",
              "          element.innerHTML = '';\n",
              "          dataTable['output_type'] = 'display_data';\n",
              "          await google.colab.output.renderOutput(dataTable, element);\n",
              "          const docLink = document.createElement('div');\n",
              "          docLink.innerHTML = docLinkHtml;\n",
              "          element.appendChild(docLink);\n",
              "        }\n",
              "      </script>\n",
              "    </div>\n",
              "  </div>\n",
              "  "
            ]
          },
          "metadata": {},
          "execution_count": 7
        }
      ]
    },
    {
      "cell_type": "markdown",
      "source": [
        "### Taking X and Y"
      ],
      "metadata": {
        "id": "sfu_Btwr0RLU"
      }
    },
    {
      "cell_type": "code",
      "source": [
        "X = df.drop(\"labels\", axis=1)\n",
        "y = df[\"labels\"]"
      ],
      "metadata": {
        "id": "FNIfQGcw0T2b"
      },
      "execution_count": 13,
      "outputs": []
    },
    {
      "cell_type": "markdown",
      "source": [
        "### Splitting Dataset"
      ],
      "metadata": {
        "id": "l1sZAUyt0CeL"
      }
    },
    {
      "cell_type": "code",
      "source": [
        "X_train, X_test, y_train, y_test = train_test_split(X, y, test_size=0.2, random_state=42, stratify=y)"
      ],
      "metadata": {
        "id": "SNJKN4xu0Eka"
      },
      "execution_count": 14,
      "outputs": []
    },
    {
      "cell_type": "markdown",
      "source": [
        "### Pre-Processing"
      ],
      "metadata": {
        "id": "SpScMEKOz8JV"
      }
    },
    {
      "cell_type": "code",
      "source": [
        "sc = StandardScaler()"
      ],
      "metadata": {
        "id": "Nu50je8WyrHH"
      },
      "execution_count": 15,
      "outputs": []
    },
    {
      "cell_type": "code",
      "source": [
        "X_train = sc.fit_transform(X_train)\n",
        "X_test = sc.transform(X_test)"
      ],
      "metadata": {
        "id": "qpNddRJN036e"
      },
      "execution_count": 16,
      "outputs": []
    },
    {
      "cell_type": "code",
      "source": [
        "X_train"
      ],
      "metadata": {
        "colab": {
          "base_uri": "https://localhost:8080/"
        },
        "id": "Pt-e4q2o1A4B",
        "outputId": "fda4cf08-a902-4f61-8be8-b2e150bafe42"
      },
      "execution_count": 17,
      "outputs": [
        {
          "output_type": "execute_result",
          "data": {
            "text/plain": [
              "array([[ 1.34704064,  1.09923367,  0.93896227, ..., -0.90726301,\n",
              "        -0.92109706, -0.87442269],\n",
              "       [-1.37733747, -1.35593698, -1.3533501 , ..., -0.55781888,\n",
              "        -0.54854731, -0.1049701 ],\n",
              "       [ 0.64608572,  0.64334125,  0.87596003, ...,  0.42932678,\n",
              "         0.22442007,  1.15334524],\n",
              "       ...,\n",
              "       [ 0.2862622 ,  0.13996003, -0.02545668, ..., -0.01937579,\n",
              "        -0.24493394,  1.94883195],\n",
              "       [-0.96611058, -0.71008938, -0.53432095, ..., -0.19885682,\n",
              "         0.23908738, -0.97277378],\n",
              "       [-0.05954223, -0.14497274, -0.08845892, ..., -0.13767011,\n",
              "        -0.08212677, -0.75293018]])"
            ]
          },
          "metadata": {},
          "execution_count": 17
        }
      ]
    },
    {
      "cell_type": "markdown",
      "source": [
        "### LOOCV for Evaluating Machine Learning Algorithms"
      ],
      "metadata": {
        "id": "dB4XGLv3EO8_"
      }
    },
    {
      "cell_type": "code",
      "source": [
        "cv = LeaveOneOut()"
      ],
      "metadata": {
        "id": "oyzQ2kTxFmnK"
      },
      "execution_count": 78,
      "outputs": []
    },
    {
      "cell_type": "code",
      "source": [
        "def loocv(model, cv, X_train, y_train):\n",
        "  scores = cross_val_score(model, X_train, y_train, scoring='accuracy', cv=cv, n_jobs=-1)\n",
        "  print('Accuracy: %.3f (%.3f)' % (scores.mean(), scores.std()))"
      ],
      "metadata": {
        "id": "YX_yY_48EOWU"
      },
      "execution_count": 83,
      "outputs": []
    },
    {
      "cell_type": "markdown",
      "source": [
        "### Metrics for Performance Evaluation"
      ],
      "metadata": {
        "id": "qtWgq49oFE3c"
      }
    },
    {
      "cell_type": "code",
      "source": [
        "def report(model, X_test, y_test):\n",
        "  \n",
        "  y_pred = model.predict(X_test)\n",
        "  print(classification_report(y_test, y_pred))"
      ],
      "metadata": {
        "id": "F4uIrwjtFECt"
      },
      "execution_count": 84,
      "outputs": []
    },
    {
      "cell_type": "markdown",
      "source": [
        "### KNN without Feature Selection"
      ],
      "metadata": {
        "id": "LzOKUKyr1JyM"
      }
    },
    {
      "cell_type": "code",
      "source": [
        "knn = KNeighborsClassifier(n_neighbors=2)\n",
        "knn.fit(X_train, y_train)\n",
        "report(knn, X_test, y_test)"
      ],
      "metadata": {
        "colab": {
          "base_uri": "https://localhost:8080/"
        },
        "id": "AlPt2sCb1EgG",
        "outputId": "007bb494-d60e-4d3b-e3d3-110ecd80bfba"
      },
      "execution_count": 85,
      "outputs": [
        {
          "output_type": "stream",
          "name": "stdout",
          "text": [
            "              precision    recall  f1-score   support\n",
            "\n",
            "         0.0       0.83      1.00      0.91        20\n",
            "         1.0       1.00      0.75      0.86        16\n",
            "\n",
            "    accuracy                           0.89        36\n",
            "   macro avg       0.92      0.88      0.88        36\n",
            "weighted avg       0.91      0.89      0.89        36\n",
            "\n"
          ]
        }
      ]
    },
    {
      "cell_type": "code",
      "source": [
        "loocv(knn, cv, X_train, y_train)"
      ],
      "metadata": {
        "colab": {
          "base_uri": "https://localhost:8080/"
        },
        "id": "ukgvU-FAFXX1",
        "outputId": "44843800-babb-4bbd-bc08-ba0bd5d1d5ef"
      },
      "execution_count": 86,
      "outputs": [
        {
          "output_type": "stream",
          "name": "stdout",
          "text": [
            "Accuracy: 0.854 (0.353)\n"
          ]
        }
      ]
    },
    {
      "cell_type": "code",
      "source": [
        "svm = SVC()\n",
        "svm.fit(X_train, y_train)"
      ],
      "metadata": {
        "colab": {
          "base_uri": "https://localhost:8080/"
        },
        "id": "OiXs3i4q2PFZ",
        "outputId": "2786a44e-a915-4983-e4ae-2fcaf6125da6"
      },
      "execution_count": 27,
      "outputs": [
        {
          "output_type": "execute_result",
          "data": {
            "text/plain": [
              "SVC()"
            ]
          },
          "metadata": {},
          "execution_count": 27
        }
      ]
    },
    {
      "cell_type": "markdown",
      "source": [
        "### Metrics"
      ],
      "metadata": {
        "id": "n5SBNrDe12X7"
      }
    },
    {
      "cell_type": "code",
      "source": [
        "def report(model, X_true, y_true):\n",
        "  \n",
        "  y_pred = model.predict(X_test)\n",
        "  print(classification_report(y_true, y_pred))"
      ],
      "metadata": {
        "id": "vVavx1nf11YX"
      },
      "execution_count": 29,
      "outputs": []
    },
    {
      "cell_type": "code",
      "source": [
        "report(knn, X_test, y_test)"
      ],
      "metadata": {
        "colab": {
          "base_uri": "https://localhost:8080/"
        },
        "id": "C6cjxwAn1sxd",
        "outputId": "8dbba976-2e51-43f2-c3c1-259c616f1d0d"
      },
      "execution_count": 30,
      "outputs": [
        {
          "output_type": "stream",
          "name": "stdout",
          "text": [
            "              precision    recall  f1-score   support\n",
            "\n",
            "         0.0       0.83      1.00      0.91        20\n",
            "         1.0       1.00      0.75      0.86        16\n",
            "\n",
            "    accuracy                           0.89        36\n",
            "   macro avg       0.92      0.88      0.88        36\n",
            "weighted avg       0.91      0.89      0.89        36\n",
            "\n"
          ]
        }
      ]
    },
    {
      "cell_type": "code",
      "source": [
        "report(svm, X_test, y_test)"
      ],
      "metadata": {
        "colab": {
          "base_uri": "https://localhost:8080/"
        },
        "id": "H5acIDOt2IkL",
        "outputId": "03c1cfc8-f836-4f83-d03e-d3751411a94b"
      },
      "execution_count": 31,
      "outputs": [
        {
          "output_type": "stream",
          "name": "stdout",
          "text": [
            "              precision    recall  f1-score   support\n",
            "\n",
            "         0.0       0.87      1.00      0.93        20\n",
            "         1.0       1.00      0.81      0.90        16\n",
            "\n",
            "    accuracy                           0.92        36\n",
            "   macro avg       0.93      0.91      0.91        36\n",
            "weighted avg       0.93      0.92      0.92        36\n",
            "\n"
          ]
        }
      ]
    },
    {
      "cell_type": "markdown",
      "source": [
        "### feature Selection"
      ],
      "metadata": {
        "id": "-wypEtSQ2kTE"
      }
    },
    {
      "cell_type": "code",
      "source": [
        "num_feats = 10"
      ],
      "metadata": {
        "id": "WlGroOwx59ey"
      },
      "execution_count": 37,
      "outputs": []
    },
    {
      "cell_type": "markdown",
      "source": [
        "#### Pearson Correlation"
      ],
      "metadata": {
        "id": "2OiDbQYg4xLQ"
      }
    },
    {
      "cell_type": "code",
      "source": [
        "def cor_selector(X, y, num_feats):\n",
        "    \n",
        "    cor_list = []\n",
        "    feature_name = X.columns.tolist()\n",
        "    \n",
        "    # calculate the correlation with y for each feature\n",
        "    for i in X.columns.tolist():\n",
        "        cor = np.corrcoef(X[i], y)[0, 1]\n",
        "        cor_list.append(cor)\n",
        "    \n",
        "    # replace NaN with 0\n",
        "    cor_list = [0 if np.isnan(i) else i for i in cor_list]\n",
        "    \n",
        "    # feature name\n",
        "    cor_feature = X.iloc[:,np.argsort(np.abs(cor_list))[-num_feats:]].columns.tolist()\n",
        "    \n",
        "    # feature selection? 0 for not select, 1 for select\n",
        "    cor_support = [True if i in cor_feature else False for i in feature_name]\n",
        "    return cor_support, cor_feature\n",
        "\n",
        "\n",
        "cor_support, cor_feature = cor_selector(X, y, 10)\n",
        "print(str(len(cor_feature)), 'selected features')"
      ],
      "metadata": {
        "colab": {
          "base_uri": "https://localhost:8080/"
        },
        "id": "g1N2rEF52YsJ",
        "outputId": "7d1a5e70-61b9-4a69-b453-f0b26afbf5d4"
      },
      "execution_count": 38,
      "outputs": [
        {
          "output_type": "stream",
          "name": "stdout",
          "text": [
            "10 selected features\n"
          ]
        }
      ]
    },
    {
      "cell_type": "markdown",
      "source": [
        "### Selecting features using Lasso regularisation using SelectFromModel"
      ],
      "metadata": {
        "id": "pXZNXVwS81KJ"
      }
    },
    {
      "cell_type": "code",
      "source": [
        "sel_ = SelectFromModel(LogisticRegression(C=1, penalty='l2'))\n",
        "sel_.fit(X_train, y_train)"
      ],
      "metadata": {
        "colab": {
          "base_uri": "https://localhost:8080/"
        },
        "id": "6H4tOvKF6DEE",
        "outputId": "f6ee59fa-e90a-40f1-9d05-518472903786"
      },
      "execution_count": 43,
      "outputs": [
        {
          "output_type": "execute_result",
          "data": {
            "text/plain": [
              "SelectFromModel(estimator=LogisticRegression(C=1))"
            ]
          },
          "metadata": {},
          "execution_count": 43
        }
      ]
    },
    {
      "cell_type": "markdown",
      "source": [
        "#### Visualising features that were kept by the lasso regularisation"
      ],
      "metadata": {
        "id": "wi_GMkHO9NyP"
      }
    },
    {
      "cell_type": "code",
      "source": [
        "sel_.get_support()"
      ],
      "metadata": {
        "colab": {
          "base_uri": "https://localhost:8080/"
        },
        "id": "Arm9lzKW9AOY",
        "outputId": "4b9eef48-c7ba-49fe-f117-809dcee637cf"
      },
      "execution_count": 44,
      "outputs": [
        {
          "output_type": "execute_result",
          "data": {
            "text/plain": [
              "array([False, False, False, False, False,  True, False, False, False,\n",
              "       False, False, False, False, False,  True, False,  True,  True,\n",
              "        True, False, False,  True,  True,  True, False,  True, False,\n",
              "       False, False, False, False,  True, False, False, False,  True,\n",
              "       False,  True, False,  True, False, False,  True, False,  True,\n",
              "        True, False, False, False,  True,  True, False,  True,  True,\n",
              "        True,  True, False, False,  True,  True,  True,  True,  True,\n",
              "       False,  True, False,  True,  True, False, False,  True, False,\n",
              "       False, False,  True,  True, False, False, False,  True, False,\n",
              "        True, False,  True, False,  True, False,  True, False,  True,\n",
              "        True, False,  True,  True, False, False,  True, False,  True,\n",
              "       False, False, False, False, False, False, False, False, False,\n",
              "       False, False, False, False, False,  True,  True, False,  True,\n",
              "        True, False, False, False,  True,  True, False, False,  True,\n",
              "       False, False,  True, False, False, False, False, False, False,\n",
              "       False, False, False, False,  True, False,  True,  True, False,\n",
              "        True, False,  True,  True, False,  True,  True,  True,  True,\n",
              "        True,  True,  True, False, False,  True, False, False, False,\n",
              "       False, False, False,  True, False,  True,  True, False,  True,\n",
              "       False, False,  True,  True,  True, False,  True,  True,  True,\n",
              "       False, False, False, False,  True,  True,  True,  True, False,\n",
              "       False,  True,  True, False, False, False, False, False,  True,\n",
              "        True, False, False, False, False,  True,  True, False,  True,\n",
              "        True,  True, False, False, False,  True,  True,  True, False,\n",
              "        True, False,  True,  True, False, False, False,  True,  True,\n",
              "       False,  True, False, False, False, False,  True,  True, False,\n",
              "       False, False, False, False,  True, False,  True,  True,  True,\n",
              "        True, False,  True, False, False, False, False, False, False,\n",
              "       False, False,  True, False,  True,  True,  True,  True, False,\n",
              "       False, False, False,  True,  True,  True, False,  True,  True,\n",
              "        True,  True,  True, False, False,  True, False, False, False,\n",
              "       False, False, False,  True, False, False, False, False, False,\n",
              "        True, False, False,  True, False,  True,  True,  True,  True,\n",
              "       False, False,  True, False, False, False, False, False, False,\n",
              "       False, False, False,  True, False, False,  True, False,  True,\n",
              "       False,  True, False, False,  True, False,  True,  True,  True,\n",
              "        True,  True, False, False, False, False,  True, False,  True,\n",
              "        True, False,  True, False, False, False, False,  True,  True,\n",
              "       False, False, False,  True,  True,  True, False,  True, False,\n",
              "       False, False, False,  True, False,  True,  True,  True, False,\n",
              "        True, False,  True, False,  True,  True,  True,  True,  True,\n",
              "       False,  True,  True, False,  True, False, False,  True, False,\n",
              "       False,  True,  True,  True, False,  True,  True,  True,  True,\n",
              "       False,  True, False, False, False, False, False,  True, False,\n",
              "       False, False,  True, False, False,  True, False, False, False,\n",
              "       False, False, False,  True, False,  True, False,  True, False,\n",
              "       False, False, False,  True, False,  True,  True, False,  True,\n",
              "        True, False, False, False,  True, False,  True,  True,  True])"
            ]
          },
          "metadata": {},
          "execution_count": 44
        }
      ]
    },
    {
      "cell_type": "markdown",
      "source": [
        "#### Make a list of with the selected features"
      ],
      "metadata": {
        "id": "0qWbg_rG9VGV"
      }
    },
    {
      "cell_type": "code",
      "source": [
        "selected_feat = X.columns[(sel_.get_support())]\n",
        "print('total features: {}'.format((X_train.shape[1])))\n",
        "print('selected features: {}'.format(len(selected_feat)))\n",
        "print('features with coefficients shrank to zero: {}'.format(\n",
        "      np.sum(sel_.estimator_.coef_ == 0)))"
      ],
      "metadata": {
        "colab": {
          "base_uri": "https://localhost:8080/"
        },
        "id": "C4bXPxeV9MAS",
        "outputId": "4affdc07-e936-48e6-defd-9c2466c952ae"
      },
      "execution_count": 46,
      "outputs": [
        {
          "output_type": "stream",
          "name": "stdout",
          "text": [
            "total features: 432\n",
            "selected features: 186\n",
            "features with coefficients shrank to zero: 0\n"
          ]
        }
      ]
    },
    {
      "cell_type": "markdown",
      "source": [
        "### Identifying the removed features"
      ],
      "metadata": {
        "id": "e9Km3nnU-ABd"
      }
    },
    {
      "cell_type": "code",
      "source": [
        "X.columns, sel_.get_support()"
      ],
      "metadata": {
        "id": "rymNaNId-D1E"
      },
      "execution_count": null,
      "outputs": []
    },
    {
      "cell_type": "code",
      "source": [
        "selected = []\n",
        "for i, v in enumerate(sel_.get_support()):\n",
        "  if v:\n",
        "    selected.append(i)"
      ],
      "metadata": {
        "id": "-FEEQfHfASi4"
      },
      "execution_count": 63,
      "outputs": []
    },
    {
      "cell_type": "code",
      "source": [
        "X.columns[selected]"
      ],
      "metadata": {
        "colab": {
          "base_uri": "https://localhost:8080/"
        },
        "id": "XQZkzOZuAk8T",
        "outputId": "5e064522-ad08-4f7a-fc32-18cc39ca3754"
      },
      "execution_count": 66,
      "outputs": [
        {
          "output_type": "execute_result",
          "data": {
            "text/plain": [
              "Index(['alpha_ec_5', 'alpha_ec_14', 'alpha_ec_16', 'alpha_ec_17',\n",
              "       'alpha_ec_18', 'alpha_ec_21', 'alpha_ec_22', 'alpha_ec_23',\n",
              "       'alpha_ec_25', 'alpha_ec_31',\n",
              "       ...\n",
              "       'ratio_theta_28', 'ratio_theta_33', 'ratio_theta_35', 'ratio_theta_36',\n",
              "       'ratio_theta_38', 'ratio_theta_39', 'ratio_theta_43', 'ratio_theta_45',\n",
              "       'ratio_theta_46', 'ratio_theta_47'],\n",
              "      dtype='object', length=186)"
            ]
          },
          "metadata": {},
          "execution_count": 66
        }
      ]
    }
  ]
}